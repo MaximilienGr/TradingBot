{
 "cells": [
  {
   "cell_type": "code",
   "execution_count": 1,
   "id": "6f40a7f5",
   "metadata": {},
   "outputs": [],
   "source": [
    "import pandas as pd\n",
    "from sklearn import linear_model"
   ]
  },
  {
   "cell_type": "code",
   "execution_count": 2,
   "id": "3e64a701",
   "metadata": {},
   "outputs": [],
   "source": [
    "file = \"1641168000000-1644364800000-4h-history.csv\"\n",
    "df = pd.read_csv(\"../data/trading_history/\" + file, low_memory=False)"
   ]
  },
  {
   "cell_type": "code",
   "execution_count": 3,
   "id": "5319b7b7",
   "metadata": {},
   "outputs": [],
   "source": [
    "# Removing useless columns\n",
    "df.drop(['EntryTime', 'ExitTime', 'EntryPrice', 'ExitPrice', 'Position', 'Portfolio'], inplace=True, axis=1)"
   ]
  },
  {
   "cell_type": "code",
   "execution_count": 4,
   "id": "2d28a737",
   "metadata": {
    "scrolled": true
   },
   "outputs": [
    {
     "data": {
      "text/plain": [
       "Index(['Open', 'High', 'Low', 'Close', 'Volume', 'Variation', 'SMA9', 'SMA21',\n",
       "       'dSMA9', 'ddSMA9', 'dSMA21', 'SMA9_under_SMA21_trigger'],\n",
       "      dtype='object')"
      ]
     },
     "execution_count": 4,
     "metadata": {},
     "output_type": "execute_result"
    }
   ],
   "source": [
    "df.columns"
   ]
  },
  {
   "cell_type": "code",
   "execution_count": 5,
   "id": "19a5aec1",
   "metadata": {
    "scrolled": true
   },
   "outputs": [
    {
     "data": {
      "text/plain": [
       "Open                        88\n",
       "High                        88\n",
       "Low                         88\n",
       "Close                       88\n",
       "Volume                      88\n",
       "Variation                   88\n",
       "SMA9                        88\n",
       "SMA21                       88\n",
       "dSMA9                       88\n",
       "ddSMA9                      88\n",
       "dSMA21                      88\n",
       "SMA9_under_SMA21_trigger    88\n",
       "dtype: int64"
      ]
     },
     "execution_count": 5,
     "metadata": {},
     "output_type": "execute_result"
    }
   ],
   "source": [
    "df.count()"
   ]
  },
  {
   "cell_type": "code",
   "execution_count": 6,
   "id": "16beb614",
   "metadata": {},
   "outputs": [
    {
     "data": {
      "text/plain": [
       "88"
      ]
     },
     "execution_count": 6,
     "metadata": {},
     "output_type": "execute_result"
    }
   ],
   "source": [
    "df.SMA9.notna().sum()"
   ]
  },
  {
   "cell_type": "code",
   "execution_count": 7,
   "id": "c8f2031b",
   "metadata": {},
   "outputs": [
    {
     "data": {
      "text/html": [
       "<div>\n",
       "<style scoped>\n",
       "    .dataframe tbody tr th:only-of-type {\n",
       "        vertical-align: middle;\n",
       "    }\n",
       "\n",
       "    .dataframe tbody tr th {\n",
       "        vertical-align: top;\n",
       "    }\n",
       "\n",
       "    .dataframe thead th {\n",
       "        text-align: right;\n",
       "    }\n",
       "</style>\n",
       "<table border=\"1\" class=\"dataframe\">\n",
       "  <thead>\n",
       "    <tr style=\"text-align: right;\">\n",
       "      <th></th>\n",
       "      <th>Open</th>\n",
       "      <th>High</th>\n",
       "      <th>Low</th>\n",
       "      <th>Close</th>\n",
       "      <th>Volume</th>\n",
       "      <th>Variation</th>\n",
       "      <th>SMA9</th>\n",
       "      <th>SMA21</th>\n",
       "      <th>dSMA9</th>\n",
       "      <th>ddSMA9</th>\n",
       "      <th>dSMA21</th>\n",
       "      <th>SMA9_under_SMA21_trigger</th>\n",
       "    </tr>\n",
       "  </thead>\n",
       "  <tbody>\n",
       "    <tr>\n",
       "      <th>Open</th>\n",
       "      <td>1.000000</td>\n",
       "      <td>0.998900</td>\n",
       "      <td>0.998736</td>\n",
       "      <td>0.997287</td>\n",
       "      <td>-0.628190</td>\n",
       "      <td>-0.095484</td>\n",
       "      <td>0.998343</td>\n",
       "      <td>0.998198</td>\n",
       "      <td>0.038638</td>\n",
       "      <td>-0.008251</td>\n",
       "      <td>0.098418</td>\n",
       "      <td>-0.039058</td>\n",
       "    </tr>\n",
       "    <tr>\n",
       "      <th>High</th>\n",
       "      <td>0.998900</td>\n",
       "      <td>1.000000</td>\n",
       "      <td>0.998263</td>\n",
       "      <td>0.998873</td>\n",
       "      <td>-0.622455</td>\n",
       "      <td>-0.098623</td>\n",
       "      <td>0.997289</td>\n",
       "      <td>0.997279</td>\n",
       "      <td>0.059967</td>\n",
       "      <td>0.024349</td>\n",
       "      <td>0.122970</td>\n",
       "      <td>-0.039052</td>\n",
       "    </tr>\n",
       "    <tr>\n",
       "      <th>Low</th>\n",
       "      <td>0.998736</td>\n",
       "      <td>0.998263</td>\n",
       "      <td>1.000000</td>\n",
       "      <td>0.998887</td>\n",
       "      <td>-0.641434</td>\n",
       "      <td>-0.086590</td>\n",
       "      <td>0.997552</td>\n",
       "      <td>0.997617</td>\n",
       "      <td>0.052544</td>\n",
       "      <td>0.026477</td>\n",
       "      <td>0.121453</td>\n",
       "      <td>-0.038204</td>\n",
       "    </tr>\n",
       "    <tr>\n",
       "      <th>Close</th>\n",
       "      <td>0.997287</td>\n",
       "      <td>0.998873</td>\n",
       "      <td>0.998887</td>\n",
       "      <td>1.000000</td>\n",
       "      <td>-0.636536</td>\n",
       "      <td>-0.089838</td>\n",
       "      <td>0.996257</td>\n",
       "      <td>0.996396</td>\n",
       "      <td>0.072988</td>\n",
       "      <td>0.056660</td>\n",
       "      <td>0.142734</td>\n",
       "      <td>-0.041836</td>\n",
       "    </tr>\n",
       "    <tr>\n",
       "      <th>Volume</th>\n",
       "      <td>-0.628190</td>\n",
       "      <td>-0.622455</td>\n",
       "      <td>-0.641434</td>\n",
       "      <td>-0.636536</td>\n",
       "      <td>1.000000</td>\n",
       "      <td>-0.131341</td>\n",
       "      <td>-0.625858</td>\n",
       "      <td>-0.625471</td>\n",
       "      <td>-0.136193</td>\n",
       "      <td>-0.095152</td>\n",
       "      <td>-0.200889</td>\n",
       "      <td>0.150731</td>\n",
       "    </tr>\n",
       "    <tr>\n",
       "      <th>Variation</th>\n",
       "      <td>-0.095484</td>\n",
       "      <td>-0.098623</td>\n",
       "      <td>-0.086590</td>\n",
       "      <td>-0.089838</td>\n",
       "      <td>-0.131341</td>\n",
       "      <td>1.000000</td>\n",
       "      <td>-0.103595</td>\n",
       "      <td>-0.103408</td>\n",
       "      <td>0.185778</td>\n",
       "      <td>-0.088513</td>\n",
       "      <td>-0.114878</td>\n",
       "      <td>-0.130113</td>\n",
       "    </tr>\n",
       "    <tr>\n",
       "      <th>SMA9</th>\n",
       "      <td>0.998343</td>\n",
       "      <td>0.997289</td>\n",
       "      <td>0.997552</td>\n",
       "      <td>0.996257</td>\n",
       "      <td>-0.625858</td>\n",
       "      <td>-0.103595</td>\n",
       "      <td>1.000000</td>\n",
       "      <td>0.999848</td>\n",
       "      <td>0.004035</td>\n",
       "      <td>0.000214</td>\n",
       "      <td>0.090631</td>\n",
       "      <td>-0.018481</td>\n",
       "    </tr>\n",
       "    <tr>\n",
       "      <th>SMA21</th>\n",
       "      <td>0.998198</td>\n",
       "      <td>0.997279</td>\n",
       "      <td>0.997617</td>\n",
       "      <td>0.996396</td>\n",
       "      <td>-0.625471</td>\n",
       "      <td>-0.103408</td>\n",
       "      <td>0.999848</td>\n",
       "      <td>1.000000</td>\n",
       "      <td>-0.000277</td>\n",
       "      <td>0.004624</td>\n",
       "      <td>0.090124</td>\n",
       "      <td>-0.011140</td>\n",
       "    </tr>\n",
       "    <tr>\n",
       "      <th>dSMA9</th>\n",
       "      <td>0.038638</td>\n",
       "      <td>0.059967</td>\n",
       "      <td>0.052544</td>\n",
       "      <td>0.072988</td>\n",
       "      <td>-0.136193</td>\n",
       "      <td>0.185778</td>\n",
       "      <td>0.004035</td>\n",
       "      <td>-0.000277</td>\n",
       "      <td>1.000000</td>\n",
       "      <td>0.450029</td>\n",
       "      <td>0.415417</td>\n",
       "      <td>-0.581190</td>\n",
       "    </tr>\n",
       "    <tr>\n",
       "      <th>ddSMA9</th>\n",
       "      <td>-0.008251</td>\n",
       "      <td>0.024349</td>\n",
       "      <td>0.026477</td>\n",
       "      <td>0.056660</td>\n",
       "      <td>-0.095152</td>\n",
       "      <td>-0.088513</td>\n",
       "      <td>0.000214</td>\n",
       "      <td>0.004624</td>\n",
       "      <td>0.450029</td>\n",
       "      <td>1.000000</td>\n",
       "      <td>0.544129</td>\n",
       "      <td>-0.053220</td>\n",
       "    </tr>\n",
       "    <tr>\n",
       "      <th>dSMA21</th>\n",
       "      <td>0.098418</td>\n",
       "      <td>0.122970</td>\n",
       "      <td>0.121453</td>\n",
       "      <td>0.142734</td>\n",
       "      <td>-0.200889</td>\n",
       "      <td>-0.114878</td>\n",
       "      <td>0.090631</td>\n",
       "      <td>0.090124</td>\n",
       "      <td>0.415417</td>\n",
       "      <td>0.544129</td>\n",
       "      <td>1.000000</td>\n",
       "      <td>0.074726</td>\n",
       "    </tr>\n",
       "    <tr>\n",
       "      <th>SMA9_under_SMA21_trigger</th>\n",
       "      <td>-0.039058</td>\n",
       "      <td>-0.039052</td>\n",
       "      <td>-0.038204</td>\n",
       "      <td>-0.041836</td>\n",
       "      <td>0.150731</td>\n",
       "      <td>-0.130113</td>\n",
       "      <td>-0.018481</td>\n",
       "      <td>-0.011140</td>\n",
       "      <td>-0.581190</td>\n",
       "      <td>-0.053220</td>\n",
       "      <td>0.074726</td>\n",
       "      <td>1.000000</td>\n",
       "    </tr>\n",
       "  </tbody>\n",
       "</table>\n",
       "</div>"
      ],
      "text/plain": [
       "                              Open      High       Low     Close    Volume  \\\n",
       "Open                      1.000000  0.998900  0.998736  0.997287 -0.628190   \n",
       "High                      0.998900  1.000000  0.998263  0.998873 -0.622455   \n",
       "Low                       0.998736  0.998263  1.000000  0.998887 -0.641434   \n",
       "Close                     0.997287  0.998873  0.998887  1.000000 -0.636536   \n",
       "Volume                   -0.628190 -0.622455 -0.641434 -0.636536  1.000000   \n",
       "Variation                -0.095484 -0.098623 -0.086590 -0.089838 -0.131341   \n",
       "SMA9                      0.998343  0.997289  0.997552  0.996257 -0.625858   \n",
       "SMA21                     0.998198  0.997279  0.997617  0.996396 -0.625471   \n",
       "dSMA9                     0.038638  0.059967  0.052544  0.072988 -0.136193   \n",
       "ddSMA9                   -0.008251  0.024349  0.026477  0.056660 -0.095152   \n",
       "dSMA21                    0.098418  0.122970  0.121453  0.142734 -0.200889   \n",
       "SMA9_under_SMA21_trigger -0.039058 -0.039052 -0.038204 -0.041836  0.150731   \n",
       "\n",
       "                          Variation      SMA9     SMA21     dSMA9    ddSMA9  \\\n",
       "Open                      -0.095484  0.998343  0.998198  0.038638 -0.008251   \n",
       "High                      -0.098623  0.997289  0.997279  0.059967  0.024349   \n",
       "Low                       -0.086590  0.997552  0.997617  0.052544  0.026477   \n",
       "Close                     -0.089838  0.996257  0.996396  0.072988  0.056660   \n",
       "Volume                    -0.131341 -0.625858 -0.625471 -0.136193 -0.095152   \n",
       "Variation                  1.000000 -0.103595 -0.103408  0.185778 -0.088513   \n",
       "SMA9                      -0.103595  1.000000  0.999848  0.004035  0.000214   \n",
       "SMA21                     -0.103408  0.999848  1.000000 -0.000277  0.004624   \n",
       "dSMA9                      0.185778  0.004035 -0.000277  1.000000  0.450029   \n",
       "ddSMA9                    -0.088513  0.000214  0.004624  0.450029  1.000000   \n",
       "dSMA21                    -0.114878  0.090631  0.090124  0.415417  0.544129   \n",
       "SMA9_under_SMA21_trigger  -0.130113 -0.018481 -0.011140 -0.581190 -0.053220   \n",
       "\n",
       "                            dSMA21  SMA9_under_SMA21_trigger  \n",
       "Open                      0.098418                 -0.039058  \n",
       "High                      0.122970                 -0.039052  \n",
       "Low                       0.121453                 -0.038204  \n",
       "Close                     0.142734                 -0.041836  \n",
       "Volume                   -0.200889                  0.150731  \n",
       "Variation                -0.114878                 -0.130113  \n",
       "SMA9                      0.090631                 -0.018481  \n",
       "SMA21                     0.090124                 -0.011140  \n",
       "dSMA9                     0.415417                 -0.581190  \n",
       "ddSMA9                    0.544129                 -0.053220  \n",
       "dSMA21                    1.000000                  0.074726  \n",
       "SMA9_under_SMA21_trigger  0.074726                  1.000000  "
      ]
     },
     "execution_count": 7,
     "metadata": {},
     "output_type": "execute_result"
    }
   ],
   "source": [
    "df.corr()"
   ]
  },
  {
   "cell_type": "code",
   "execution_count": 8,
   "id": "8c9a4540",
   "metadata": {},
   "outputs": [
    {
     "data": {
      "text/plain": [
       "<AxesSubplot:ylabel='Density'>"
      ]
     },
     "execution_count": 8,
     "metadata": {},
     "output_type": "execute_result"
    },
    {
     "data": {
      "image/png": "[encoded data removed]",
      "text/plain": [
       "<Figure size 432x288 with 1 Axes>"
      ]
     },
     "metadata": {
      "needs_background": "light"
     },
     "output_type": "display_data"
    }
   ],
   "source": [
    "df.Variation.plot.kde()"
   ]
  },
  {
   "cell_type": "code",
   "execution_count": 11,
   "id": "ebfba0e5",
   "metadata": {},
   "outputs": [
    {
     "data": {
      "text/plain": [
       "count    88.000000\n",
       "mean      0.122466\n",
       "std       6.861836\n",
       "min      -7.991000\n",
       "25%      -2.910750\n",
       "50%      -0.784000\n",
       "75%       1.257250\n",
       "max      46.757000\n",
       "Name: Variation, dtype: float64"
      ]
     },
     "execution_count": 11,
     "metadata": {},
     "output_type": "execute_result"
    }
   ],
   "source": [
    "df.Variation.describe()"
   ]
  },
  {
   "cell_type": "code",
   "execution_count": null,
   "id": "afcb306b",
   "metadata": {},
   "outputs": [],
   "source": []
  }
 ],
 "metadata": {
  "kernelspec": {
   "display_name": "Python 3 (ipykernel)",
   "language": "python",
   "name": "python3"
  },
  "language_info": {
   "codemirror_mode": {
    "name": "ipython",
    "version": 3
   },
   "file_extension": ".py",
   "mimetype": "text/x-python",
   "name": "python",
   "nbconvert_exporter": "python",
   "pygments_lexer": "ipython3",
   "version": "3.10.6"
  }
 },
 "nbformat": 4,
 "nbformat_minor": 5
}
